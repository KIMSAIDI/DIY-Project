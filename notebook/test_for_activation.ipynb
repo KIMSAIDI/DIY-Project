{
 "cells": [
  {
   "cell_type": "code",
   "execution_count": 4,
   "metadata": {},
   "outputs": [],
   "source": [
    "import sys\n",
    "sys.path.append('../')\n",
    "\n",
    "import numpy as np\n",
    "import matplotlib.pyplot as plt\n",
    "import random\n",
    "\n",
    "from activation import *\n",
    "from loss import *\n",
    "from linear import * "
   ]
  },
  {
   "cell_type": "code",
   "execution_count": 5,
   "metadata": {},
   "outputs": [],
   "source": [
    "\n",
    "# Génération des données\n",
    "\n",
    "# Création des modules\n",
    "linear1 = Linear(2, 3)  # Couche linéaire avec 3 neurones\n",
    "tanh = TanH()           # Activation TanH\n",
    "linear2 = Linear(3, 1)   # Couche linéaire avec 1 neurone (pour la sortie binaire)\n",
    "sigmoid = Sigmoid()      # Activation Sigmoide\n",
    "\n",
    "# Définition de la fonction de perte\n",
    "loss_fn = MSELoss()\n",
    "\n"
   ]
  }
 ],
 "metadata": {
  "kernelspec": {
   "display_name": "Python 3",
   "language": "python",
   "name": "python3"
  },
  "language_info": {
   "codemirror_mode": {
    "name": "ipython",
    "version": 3
   },
   "file_extension": ".py",
   "mimetype": "text/x-python",
   "name": "python",
   "nbconvert_exporter": "python",
   "pygments_lexer": "ipython3",
   "version": "3.12.1"
  }
 },
 "nbformat": 4,
 "nbformat_minor": 2
}
