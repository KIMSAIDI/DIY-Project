{
 "cells": [
  {
   "cell_type": "code",
   "execution_count": null,
   "metadata": {},
   "outputs": [],
   "source": [
    "import sys\n",
    "sys.path.append('../')\n",
    "\n",
    "import numpy as np\n",
    "import matplotlib.pyplot as plt\n",
    "import random\n",
    "from tqdm import tqdm\n",
    "from tools.basic import load_usps, show_image,draw_pred\n",
    "from sklearn.model_selection import train_test_split\n",
    "\n",
    "from activation import *\n",
    "from loss import *\n",
    "from linear import * \n",
    "from encapsulage import *\n",
    "from utils import *\n",
    "\n",
    "from keras.datasets import mnist\n",
    "\n",
    "def onehot(x): # single digit\n",
    "    out = [0] * 10\n",
    "    out[x] = 1\n",
    "    return out\n"
   ]
  },
  {
   "cell_type": "code",
   "execution_count": null,
   "metadata": {},
   "outputs": [],
   "source": []
  }
 ],
 "metadata": {
  "language_info": {
   "name": "python"
  }
 },
 "nbformat": 4,
 "nbformat_minor": 2
}
