{
 "cells": [
  {
   "cell_type": "code",
   "execution_count": 1,
   "metadata": {},
   "outputs": [],
   "source": [
    "import sys\n",
    "sys.path.append('../')\n",
    "\n",
    "import numpy as np\n",
    "import matplotlib.pyplot as plt\n",
    "import random\n",
    "from tqdm import tqdm\n",
    "import os, sys\n",
    "\n",
    "from activation import *\n",
    "from loss import *\n",
    "from linear import * \n",
    "from encapsulage import *\n",
    "from utils import *"
   ]
  },
  {
   "cell_type": "code",
   "execution_count": 5,
   "metadata": {},
   "outputs": [
    {
     "name": "stdout",
     "output_type": "stream",
     "text": [
      "early stop best epoch :  0\n"
     ]
    }
   ],
   "source": [
    "# Création des données artificielles\n",
    "X_train, y_train = generate_artificial_data(center=1, sigma=0.1, nbex=1000, data_type=1, epsilon=0.1)\n",
    "X_test, y_test = generate_artificial_data(center=1, sigma=0.1, nbex=1000, data_type=1, epsilon=0.1)\n",
    "\n",
    "y_train = np.where(y_train == -1, 0, 1).reshape((-1, 1))\n",
    "y_test = np.where(y_test == -1, 0, 1).reshape((-1, 1))\n",
    "\n",
    "def label_func(x):\n",
    "    return np.where(x >= 0.5,1, 0)\n",
    "\n",
    "\n",
    "# Création du réseau\n",
    "net = Sequentiel([], labels=label_func)\n",
    "net.add_module(Linear(X_train.shape[1], 20))\n",
    "net.add_module(TanH())\n",
    "net.add_module(Linear(20, 1))\n",
    "net.add_module(Sigmoid())\n",
    "\n",
    "\n",
    "# Initialisation de l'optimiseur\n",
    "loss = MSELoss()\n",
    "optim = Optim(net, loss, eps=1e-2)\n",
    "\n",
    "# Entraînement avec SGD\n",
    "batch_size = 200\n",
    "epochs = 1000\n",
    "\n",
    "mean, std  = optim.SGD(X_train, y_train, batch_size, epochs)\n"
   ]
  },
  {
   "cell_type": "code",
   "execution_count": 9,
   "metadata": {},
   "outputs": [
    {
     "data": {
      "image/png": "[encoded data removed]",
      "text/plain": [
       "<Figure size 640x480 with 1 Axes>"
      ]
     },
     "metadata": {},
     "output_type": "display_data"
    },
    {
     "ename": "ValueError",
     "evalue": "y_pred et y_test doivent avoir la même forme.",
     "output_type": "error",
     "traceback": [
      "\u001b[1;31m---------------------------------------------------------------------------\u001b[0m",
      "\u001b[1;31mValueError\u001b[0m                                Traceback (most recent call last)",
      "Cell \u001b[1;32mIn[9], line 8\u001b[0m\n\u001b[0;32m      4\u001b[0m plt\u001b[38;5;241m.\u001b[39mlegend((\u001b[38;5;124m'\u001b[39m\u001b[38;5;124mMean\u001b[39m\u001b[38;5;124m'\u001b[39m, \u001b[38;5;124m'\u001b[39m\u001b[38;5;124mstd\u001b[39m\u001b[38;5;124m'\u001b[39m))\n\u001b[0;32m      5\u001b[0m plt\u001b[38;5;241m.\u001b[39mshow()\n\u001b[1;32m----> 8\u001b[0m acc \u001b[38;5;241m=\u001b[39m \u001b[43moptim\u001b[49m\u001b[38;5;241;43m.\u001b[39;49m\u001b[43maccuracy\u001b[49m\u001b[43m(\u001b[49m\u001b[43mX_train\u001b[49m\u001b[43m,\u001b[49m\u001b[43my_train\u001b[49m\u001b[43m)\u001b[49m\n\u001b[0;32m      9\u001b[0m \u001b[38;5;28mprint\u001b[39m(\u001b[38;5;124m\"\u001b[39m\u001b[38;5;124maccuracy : \u001b[39m\u001b[38;5;124m\"\u001b[39m,acc)\n\u001b[0;32m     10\u001b[0m plt\u001b[38;5;241m.\u001b[39mfigure()\n",
      "File \u001b[1;32mc:\\Users\\kimsa\\OneDrive\\Bureau\\M1\\S2\\ML\\DIY-Project\\notebook\\..\\encapsulage.py:216\u001b[0m, in \u001b[0;36mOptim.accuracy\u001b[1;34m(self, y_pred, y_test)\u001b[0m\n\u001b[0;32m    214\u001b[0m \u001b[38;5;66;03m# Vérification des dimensions\u001b[39;00m\n\u001b[0;32m    215\u001b[0m \u001b[38;5;28;01mif\u001b[39;00m y_pred\u001b[38;5;241m.\u001b[39mshape \u001b[38;5;241m!=\u001b[39m y_test\u001b[38;5;241m.\u001b[39mshape:\n\u001b[1;32m--> 216\u001b[0m     \u001b[38;5;28;01mraise\u001b[39;00m \u001b[38;5;167;01mValueError\u001b[39;00m(\u001b[38;5;124m\"\u001b[39m\u001b[38;5;124my_pred et y_test doivent avoir la même forme.\u001b[39m\u001b[38;5;124m\"\u001b[39m)\n\u001b[0;32m    218\u001b[0m \u001b[38;5;66;03m# Calcul de l'exactitude\u001b[39;00m\n\u001b[0;32m    219\u001b[0m \u001b[38;5;28;01mreturn\u001b[39;00m np\u001b[38;5;241m.\u001b[39mwhere(y \u001b[38;5;241m==\u001b[39m \u001b[38;5;28mself\u001b[39m\u001b[38;5;241m.\u001b[39mnet\u001b[38;5;241m.\u001b[39mpredict(x), \u001b[38;5;241m1\u001b[39m, \u001b[38;5;241m0\u001b[39m)\u001b[38;5;241m.\u001b[39mmean()\n",
      "\u001b[1;31mValueError\u001b[0m: y_pred et y_test doivent avoir la même forme."
     ]
    }
   ],
   "source": [
    "\n",
    "plt.figure()\n",
    "plt.plot(mean)\n",
    "plt.plot(std)\n",
    "plt.legend(('Mean', 'std'))\n",
    "plt.show()\n",
    "\n",
    "\n",
    "acc = optim.accuracy(X_train,y_train)\n",
    "print(\"accuracy : \",acc)\n",
    "plt.figure()\n",
    "basic.plot_frontiere(X_train, opt.net.predict, step=100)\n",
    "basic.plot_data(X_train, y_train.reshape(-1))\n",
    "plt.title(\"accuracy = \"+str(acc))\n",
    "plt.show()"
   ]
  },
  {
   "cell_type": "code",
   "execution_count": 13,
   "metadata": {},
   "outputs": [
    {
     "ename": "TypeError",
     "evalue": "Linear.__init__() got an unexpected keyword argument 'type'",
     "output_type": "error",
     "traceback": [
      "\u001b[1;31m---------------------------------------------------------------------------\u001b[0m",
      "\u001b[1;31mTypeError\u001b[0m                                 Traceback (most recent call last)",
      "Cell \u001b[1;32mIn[13], line 24\u001b[0m\n\u001b[0;32m     21\u001b[0m     \u001b[38;5;28;01mreturn\u001b[39;00m np\u001b[38;5;241m.\u001b[39mwhere(x \u001b[38;5;241m>\u001b[39m\u001b[38;5;241m=\u001b[39m \u001b[38;5;241m0.5\u001b[39m,\u001b[38;5;241m1\u001b[39m, \u001b[38;5;241m0\u001b[39m)\n\u001b[0;32m     23\u001b[0m loss_mse \u001b[38;5;241m=\u001b[39m MSELoss()\n\u001b[1;32m---> 24\u001b[0m lin_layer \u001b[38;5;241m=\u001b[39m \u001b[43mLinear\u001b[49m\u001b[43m(\u001b[49m\u001b[43mn\u001b[49m\u001b[43m,\u001b[49m\u001b[43m \u001b[49m\u001b[43mhidden\u001b[49m\u001b[43m,\u001b[49m\u001b[38;5;28;43mtype\u001b[39;49m\u001b[38;5;241;43m=\u001b[39;49m\u001b[38;5;241;43m1\u001b[39;49m\u001b[43m)\u001b[49m\n\u001b[0;32m     25\u001b[0m lin_layer2 \u001b[38;5;241m=\u001b[39m Linear(hidden, hidden2,\u001b[38;5;28mtype\u001b[39m\u001b[38;5;241m=\u001b[39m\u001b[38;5;241m1\u001b[39m)\n\u001b[0;32m     26\u001b[0m lin_layer3 \u001b[38;5;241m=\u001b[39m Linear(hidden2, d,\u001b[38;5;28mtype\u001b[39m\u001b[38;5;241m=\u001b[39m\u001b[38;5;241m1\u001b[39m)\n",
      "\u001b[1;31mTypeError\u001b[0m: Linear.__init__() got an unexpected keyword argument 'type'"
     ]
    }
   ],
   "source": [
    "size = 500\n",
    "datax, datay = generate_artificial_data(center=1, sigma=0.1, nbex=1000, data_type=1, epsilon=0.1)\n",
    "testx, testy = generate_artificial_data(center=1, sigma=0.1, nbex=1000, data_type=1, epsilon=0.1)\n",
    "\n",
    "\n",
    "datay = np.where(datay==-1,0,1).reshape((-1,1))\n",
    "testy = np.where(testy==-1,0,1).reshape((-1,1))\n",
    "\n",
    "\n",
    "n = datax.shape[1]\n",
    "hidden = 80\n",
    "hidden2 = 60\n",
    "d = 1\n",
    "\n",
    "\n",
    "iteration = 500\n",
    "gradient_step = 1e-3\n",
    "batchsize=10\n",
    "\n",
    "def label_func(x):\n",
    "    return np.where(x >= 0.5,1, 0)\n",
    "    \n",
    "loss_mse = MSELoss()\n",
    "lin_layer = Linear(n, hidden,type=1)\n",
    "lin_layer2 = Linear(hidden, hidden2,type=1)\n",
    "lin_layer3 = Linear(hidden2, d,type=1)\n",
    "lin_layer4 = Linear(40, 30,type=1)\n",
    "lin_layer5 = Linear(30, d,type=1)\n",
    "act_sig = Sigmoid()\n",
    "act_tan = TanH()\n",
    "\n",
    "net = Sequentiel([lin_layer,act_tan,lin_layer2,act_tan,lin_layer3,act_sig],labels=label_func)\n",
    "\n",
    "\n",
    "opt = Optim(net,loss_mse,eps=gradient_step)\n",
    "mean, std = opt.SGD(datax,datay,batchsize,iteration)\n",
    "plt.figure()\n",
    "plt.plot(mean)\n",
    "plt.plot(std)\n",
    "plt.legend(('Mean', 'std'))\n",
    "plt.show()\n",
    "\n",
    "\n",
    "acc = opt.score(datax,datay)\n",
    "print(\"accuracy : \",acc)\n",
    "plt.figure()\n",
    "basic.plot_frontiere(datax, opt._net.predict, step=100)\n",
    "basic.plot_data(datax, datay.reshape(-1))\n",
    "plt.title(\"accuracy = \"+str(acc))\n",
    "plt.show()"
   ]
  }
 ],
 "metadata": {
  "kernelspec": {
   "display_name": "Python 3",
   "language": "python",
   "name": "python3"
  },
  "language_info": {
   "codemirror_mode": {
    "name": "ipython",
    "version": 3
   },
   "file_extension": ".py",
   "mimetype": "text/x-python",
   "name": "python",
   "nbconvert_exporter": "python",
   "pygments_lexer": "ipython3",
   "version": "3.12.1"
  }
 },
 "nbformat": 4,
 "nbformat_minor": 2
}
