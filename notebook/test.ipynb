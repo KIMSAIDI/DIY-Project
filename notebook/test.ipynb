{
 "cells": [
  {
   "cell_type": "code",
   "execution_count": 1,
   "metadata": {},
   "outputs": [],
   "source": [
    "import sys\n",
    "sys.path.append('../')\n",
    "\n",
    "from activation import *\n",
    "from loss import *\n",
    "from linear import * \n",
    "from encapsulage import *\n",
    "from utils import *\n",
    "\n",
    "import matplotlib.pyplot as plt\n",
    "import random\n",
    "import numpy as np\n",
    "from tqdm import tqdm\n",
    "from sklearn.model_selection import train_test_split\n",
    "from keras.datasets import mnist\n",
    "import seaborn as sns\n",
    "from sklearn.metrics import confusion_matrix\n",
    "\n",
    "import numpy as np\n",
    "from keras.datasets import mnist\n",
    "from sklearn.preprocessing import OneHotEncoder\n",
    "\n",
    "def onehot(x): \n",
    "    out = [0] * 10\n",
    "    out[x] = 1\n",
    "    return out"
   ]
  },
  {
   "cell_type": "code",
   "execution_count": 3,
   "metadata": {},
   "outputs": [
    {
     "name": "stderr",
     "output_type": "stream",
     "text": [
      "100%|██████████| 100/100 [00:22<00:00,  4.37it/s]\n"
     ]
    }
   ],
   "source": [
    "\n",
    "\n",
    "# Charger les données MNIST\n",
    "(X_train, y_train), (X_test, y_test) = mnist.load_data()\n",
    "\n",
    "# Vectoriser les images et les normaliser\n",
    "X_train = X_train.reshape(60000, 784).astype('float32') / 255\n",
    "X_test = X_test.reshape(10000, 784).astype('float32') / 255\n",
    "\n",
    "# Sélectionner un sous-ensemble\n",
    "X_train = X_train[:2000]\n",
    "X_test = X_test[:1000]\n",
    "\n",
    "# Paramétrer le modèle\n",
    "d = X_train.shape[1]\n",
    "d_prime = 128  # Augmenter la dimension de la couche cachée pour plus de capacité d'apprentissage\n",
    "d_prime2 = 64  # Ajuster la deuxième couche cachée\n",
    "out = 784\n",
    "epoch = 100  # Augmenter le nombre d'époques\n",
    "gradient_step = 0.001  # Augmenter le taux d'apprentissage\n",
    "batchsize = 64  # Taille de lot plus petite\n",
    "\n",
    "# Initialisation des couches\n",
    "lin = Linear(d, d_prime)\n",
    "lin2 = Linear(d_prime, d_prime2)\n",
    "lin3 = Linear(d_prime2, d_prime)\n",
    "lin4 = Linear(d_prime, out)\n",
    "\n",
    "# Transposition des paramètres pour maintenir la symétrie\n",
    "lin3._parameters = lin2._parameters.T\n",
    "lin4._parameters = lin._parameters.T\n",
    "\n",
    "# Fonctions d'activation\n",
    "tan = TanH()\n",
    "sig = Sigmoid()\n",
    "\n",
    "# Fonction de perte\n",
    "loss = MSELoss()\n",
    "\n",
    "# Construction de l'auto-encodeur\n",
    "Encodeur = [lin, tan, lin2, tan]\n",
    "Decodeur = [lin3, tan, lin4, sig]\n",
    "net = Sequentiel(Encodeur + Decodeur)\n",
    "\n",
    "# Entraînement\n",
    "optim = Optim(net, loss, gradient_step)\n",
    "lloss = optim.SGD(X_train, X_train, batchsize, epoch)\n",
    "\n"
   ]
  },
  {
   "cell_type": "code",
   "execution_count": 16,
   "metadata": {},
   "outputs": [
    {
     "ename": "AttributeError",
     "evalue": "'Encoder' object has no attribute 'layers'",
     "output_type": "error",
     "traceback": [
      "\u001b[1;31m---------------------------------------------------------------------------\u001b[0m",
      "\u001b[1;31mAttributeError\u001b[0m                            Traceback (most recent call last)",
      "Cell \u001b[1;32mIn[16], line 9\u001b[0m\n\u001b[0;32m      6\u001b[0m         \u001b[38;5;28;01mreturn\u001b[39;00m x\n\u001b[0;32m      8\u001b[0m encoder \u001b[38;5;241m=\u001b[39m Encoder(Encodeur)\n\u001b[1;32m----> 9\u001b[0m latent_representations \u001b[38;5;241m=\u001b[39m \u001b[43mencoder\u001b[49m\u001b[38;5;241;43m.\u001b[39;49m\u001b[43mforward\u001b[49m\u001b[43m(\u001b[49m\u001b[43mX_train\u001b[49m\u001b[43m)\u001b[49m\n\u001b[0;32m     11\u001b[0m \u001b[38;5;66;03m# Utiliser t-SNE pour projeter les représentations latentes en 2D\u001b[39;00m\n\u001b[0;32m     12\u001b[0m tsne \u001b[38;5;241m=\u001b[39m TSNE(n_components\u001b[38;5;241m=\u001b[39m\u001b[38;5;241m2\u001b[39m, random_state\u001b[38;5;241m=\u001b[39m\u001b[38;5;241m42\u001b[39m)\n",
      "Cell \u001b[1;32mIn[16], line 4\u001b[0m, in \u001b[0;36mEncoder.forward\u001b[1;34m(self, x)\u001b[0m\n\u001b[0;32m      3\u001b[0m \u001b[38;5;28;01mdef\u001b[39;00m \u001b[38;5;21mforward\u001b[39m(\u001b[38;5;28mself\u001b[39m, x):\n\u001b[1;32m----> 4\u001b[0m     \u001b[38;5;28;01mfor\u001b[39;00m layer \u001b[38;5;129;01min\u001b[39;00m \u001b[38;5;28;43mself\u001b[39;49m\u001b[38;5;241;43m.\u001b[39;49m\u001b[43mlayers\u001b[49m:\n\u001b[0;32m      5\u001b[0m         x \u001b[38;5;241m=\u001b[39m layer\u001b[38;5;241m.\u001b[39mforward(x)\n\u001b[0;32m      6\u001b[0m     \u001b[38;5;28;01mreturn\u001b[39;00m x\n",
      "\u001b[1;31mAttributeError\u001b[0m: 'Encoder' object has no attribute 'layers'"
     ]
    }
   ],
   "source": [
    "\n",
    "# Extraire les représentations latentes\n",
    "class Encoder(Sequentiel):\n",
    "    def forward(self, x):\n",
    "        for layer in self.layers:\n",
    "            x = layer.forward(x)\n",
    "        return x\n",
    "\n",
    "encoder = Encoder(Encodeur)\n",
    "latent_representations = encoder.forward(X_train)\n",
    "\n",
    "# Utiliser t-SNE pour projeter les représentations latentes en 2D\n",
    "tsne = TSNE(n_components=2, random_state=42)\n",
    "latent_2d = tsne.fit_transform(latent_representations)\n",
    "\n",
    "# Visualiser les représentations latentes en 2D\n",
    "plt.figure(figsize=(10, 6))\n",
    "sns.scatterplot(x=latent_2d[:, 0], y=latent_2d[:, 1], hue=y_train, palette='tab10', legend='full', s=60)\n",
    "plt.title('Représentations latentes en 2D avec t-SNE')\n",
    "plt.show()"
   ]
  }
 ],
 "metadata": {
  "kernelspec": {
   "display_name": "Python 3",
   "language": "python",
   "name": "python3"
  },
  "language_info": {
   "codemirror_mode": {
    "name": "ipython",
    "version": 3
   },
   "file_extension": ".py",
   "mimetype": "text/x-python",
   "name": "python",
   "nbconvert_exporter": "python",
   "pygments_lexer": "ipython3",
   "version": "3.12.1"
  }
 },
 "nbformat": 4,
 "nbformat_minor": 2
}
